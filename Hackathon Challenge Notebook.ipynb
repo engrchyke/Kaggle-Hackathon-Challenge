{
 "cells": [
  {
   "cell_type": "code",
   "execution_count": null,
   "id": "fc1da8ed",
   "metadata": {},
   "outputs": [],
   "source": [
    "import numpy as np                     \n",
    "import pandas as pd\n",
    "from matplotlib import pyplot as plt\n",
    "import seaborn as sns\n",
    "# Customise our plotting settings\n",
    "sns.set_style('whitegrid')\n",
    "\n",
    "#Libraries for data cleaning and preprocessing\n",
    "#from wordcloud import WordCloud, STOPWORDS , ImageColorGenerator\n",
    "from nltk.tokenize import word_tokenize, TreebankWordTokenizer\n",
    "from nltk.stem import WordNetLemmatizer\n",
    "from sklearn.feature_extraction.text import CountVectorizer\n",
    "from sklearn.utils import resample\n",
    "import string\n",
    "import re\n",
    "import pickle\n",
    "import nltk\n",
    "\n",
    "#Libraries for data preparation and model building\n",
    "from sklearn.model_selection import train_test_split\n",
    "from sklearn.svm import SVC\n",
    "from sklearn.naive_bayes import MultinomialNB\n",
    "from sklearn.tree import DecisionTreeClassifier\n",
    "from sklearn.ensemble import RandomForestClassifier\n",
    "from sklearn.linear_model import LogisticRegression\n",
    "from sklearn.metrics import classification_report, confusion_matrix, f1_score, precision_score, recall_score # Classification report"
   ]
  },
  {
   "cell_type": "code",
   "execution_count": null,
   "id": "9c81d6f0",
   "metadata": {},
   "outputs": [],
   "source": [
    "#load the training and test data set\n",
    "df_train = pd.read_csv('train_set.csv')\n",
    "df_test = pd.read_csv('test_set.csv')"
   ]
  },
  {
   "cell_type": "code",
   "execution_count": null,
   "id": "4125f274",
   "metadata": {},
   "outputs": [],
   "source": [
    "df_train.head()"
   ]
  },
  {
   "cell_type": "code",
   "execution_count": null,
   "id": "3991d26f",
   "metadata": {},
   "outputs": [],
   "source": [
    "df_test.head()"
   ]
  },
  {
   "cell_type": "markdown",
   "id": "ffe15577",
   "metadata": {},
   "source": [
    "## Explorative Data Analysis"
   ]
  },
  {
   "cell_type": "code",
   "execution_count": null,
   "id": "a3abe230",
   "metadata": {},
   "outputs": [],
   "source": [
    "df = df_train.copy()"
   ]
  },
  {
   "cell_type": "code",
   "execution_count": null,
   "id": "ff487b07",
   "metadata": {},
   "outputs": [],
   "source": [
    "df.info()"
   ]
  },
  {
   "cell_type": "code",
   "execution_count": null,
   "id": "a33e6fc8",
   "metadata": {},
   "outputs": [],
   "source": [
    "df.isnull().sum()"
   ]
  },
  {
   "cell_type": "code",
   "execution_count": null,
   "id": "5654167c",
   "metadata": {},
   "outputs": [],
   "source": [
    "df['lang_id'].value_counts()"
   ]
  },
  {
   "cell_type": "code",
   "execution_count": null,
   "id": "23e1c699",
   "metadata": {},
   "outputs": [],
   "source": [
    "#ploting the distribution of unique label values\n",
    "f, ax = plt.subplots(figsize=(10, 10))\n",
    "ax = sns.countplot(x=\"lang_id\", data=df)\n",
    "plt.show()"
   ]
  },
  {
   "cell_type": "code",
   "execution_count": null,
   "id": "c572435f",
   "metadata": {},
   "outputs": [],
   "source": [
    "df['text'].tail(20)"
   ]
  },
  {
   "cell_type": "code",
   "execution_count": null,
   "id": "1ddbe178",
   "metadata": {},
   "outputs": [],
   "source": [
    "string.punctuation"
   ]
  },
  {
   "cell_type": "code",
   "execution_count": null,
   "id": "f7559816",
   "metadata": {},
   "outputs": [],
   "source": [
    "#Data preprocessing\n",
    "#function that handles the removal punctuations from the tweets\n",
    "def remove_punct(text):\n",
    "    \"\"\"\n",
    "    the function remove_punction, it takes in a text as input and loops through\n",
    "    the text, if a character is not in string.punctuation then it adds the character\n",
    "    as a string to the text variable\n",
    "    \n",
    "    \"\"\"\n",
    "    text  = \"\".join([char for char in text if char not in string.punctuation])\n",
    "    text = re.sub('[0-9]+', '', text)\n",
    "    return text"
   ]
  },
  {
   "cell_type": "code",
   "execution_count": null,
   "id": "18c1d0c5",
   "metadata": {},
   "outputs": [],
   "source": [
    "#removes all websites and replaces them with the text 'web-url'\n",
    "pattern_url = r'http[s]?://(?:[A-Za-z]|[0-9]|[$-_@.&+]|[!*\\(\\),]|(?:%[0-9A-Fa-f][0-9A-Fa-f]))+'\n",
    "subs_url = r'url-web'\n",
    "df['message_punct'] = df['text'].replace(to_replace = pattern_url, value = subs_url, regex = True)"
   ]
  },
  {
   "cell_type": "code",
   "execution_count": null,
   "id": "6af0d37e",
   "metadata": {},
   "outputs": [],
   "source": [
    "#apply the remve_puct func to the tweets column\n",
    "df['message_punct'] = df['message_punct'].apply(lambda x: remove_punct(x))\n",
    "df"
   ]
  },
  {
   "cell_type": "code",
   "execution_count": null,
   "id": "925cebb4",
   "metadata": {},
   "outputs": [],
   "source": [
    "df['message_punct'].tail(20)"
   ]
  },
  {
   "cell_type": "markdown",
   "id": "56028a83",
   "metadata": {},
   "source": [
    "## Feature Engineering"
   ]
  },
  {
   "cell_type": "code",
   "execution_count": null,
   "id": "3e848f20",
   "metadata": {},
   "outputs": [],
   "source": [
    "#applying tokenization to the data set\n",
    "tokeniser = TreebankWordTokenizer()\n",
    "df['tokens'] = df['message_punct'].apply(tokeniser.tokenize)"
   ]
  },
  {
   "cell_type": "code",
   "execution_count": null,
   "id": "10dcd223",
   "metadata": {},
   "outputs": [],
   "source": [
    "#applying Lammetization\n",
    "lemmatizer = WordNetLemmatizer()\n",
    "#function that handles the process of lemmatization\n",
    "def extract_lemma(words, lemmatizer):\n",
    "    return ' '.join([lemmatizer.lemmatize(word) for word in words]) "
   ]
  },
  {
   "cell_type": "code",
   "execution_count": null,
   "id": "1c75a524",
   "metadata": {},
   "outputs": [],
   "source": [
    "#calling extract_lemma function on the tokens column\n",
    "df['lemma'] = df['tokens'].apply(extract_lemma, args=(lemmatizer, ))"
   ]
  },
  {
   "cell_type": "code",
   "execution_count": null,
   "id": "df3dcb76",
   "metadata": {},
   "outputs": [],
   "source": [
    "#using countVectorizer\n",
    "vectorizer = CountVectorizer(max_features = 27000, analyzer = \"word\", ngram_range = (1,3))"
   ]
  },
  {
   "cell_type": "code",
   "execution_count": null,
   "id": "598b8b79",
   "metadata": {},
   "outputs": [],
   "source": [
    "#transforming the data using the vectorizer\n",
    "X_count = vectorizer.fit_transform(df['lemma'].values.astype(str))"
   ]
  },
  {
   "cell_type": "code",
   "execution_count": null,
   "id": "f7475244",
   "metadata": {},
   "outputs": [],
   "source": [
    "X_count.shape"
   ]
  },
  {
   "cell_type": "code",
   "execution_count": null,
   "id": "81f92d5b",
   "metadata": {},
   "outputs": [],
   "source": [
    "X = X_count.toarray()"
   ]
  },
  {
   "cell_type": "code",
   "execution_count": null,
   "id": "994cf415",
   "metadata": {},
   "outputs": [],
   "source": [
    "from sklearn.preprocessing import LabelEncoder\n",
    "le = LabelEncoder()\n",
    "#Fit label encoder and return encoded labels\n",
    "y = le.fit_transform(df['lang_id'])"
   ]
  },
  {
   "cell_type": "code",
   "execution_count": null,
   "id": "309bed8b",
   "metadata": {},
   "outputs": [],
   "source": [
    "type_labels = (le.classes_)"
   ]
  },
  {
   "cell_type": "code",
   "execution_count": null,
   "id": "c58bd1fc",
   "metadata": {},
   "outputs": [],
   "source": [
    "type_labels"
   ]
  },
  {
   "cell_type": "markdown",
   "id": "d8850707",
   "metadata": {},
   "source": [
    "### Applying same for the test data"
   ]
  },
  {
   "cell_type": "code",
   "execution_count": null,
   "id": "2c9db882",
   "metadata": {},
   "outputs": [],
   "source": [
    "test_df = df_test.copy()"
   ]
  },
  {
   "cell_type": "code",
   "execution_count": null,
   "id": "957eca5b",
   "metadata": {},
   "outputs": [],
   "source": [
    "test_df"
   ]
  },
  {
   "cell_type": "code",
   "execution_count": null,
   "id": "ab79ce7d",
   "metadata": {},
   "outputs": [],
   "source": [
    "#removing http and replacing it with url pattern\n",
    "test_df['message_punct'] = test_df['text'].replace(to_replace = pattern_url, value = subs_url, regex = True)"
   ]
  },
  {
   "cell_type": "code",
   "execution_count": null,
   "id": "18df2ea7",
   "metadata": {},
   "outputs": [],
   "source": [
    "#applying the remove punctuation funtion to the test data\n",
    "test_df['message_punct'] = test_df['message_punct'].apply(lambda x: remove_punct(x))\n",
    "test_df.head()"
   ]
  },
  {
   "cell_type": "code",
   "execution_count": null,
   "id": "c00ef0df",
   "metadata": {},
   "outputs": [],
   "source": [
    "#applying tokenizer\n",
    "test_df['tokens'] = test_df['message_punct'].apply(tokeniser.tokenize)"
   ]
  },
  {
   "cell_type": "code",
   "execution_count": null,
   "id": "27a5cd66",
   "metadata": {},
   "outputs": [],
   "source": [
    "#applying the extract_lemma function\n",
    "test_df['lemma'] = test_df['tokens'].apply(extract_lemma, args=(lemmatizer, ))"
   ]
  },
  {
   "cell_type": "code",
   "execution_count": null,
   "id": "bbabaf57",
   "metadata": {},
   "outputs": [],
   "source": [
    "#transforming the data using vectorizer\n",
    "test_count = vectorizer.transform(test_df['lemma'].values.astype(str))"
   ]
  },
  {
   "cell_type": "code",
   "execution_count": null,
   "id": "220ff139",
   "metadata": {},
   "outputs": [],
   "source": [
    "#selecting the feature\n",
    "x_test = test_count.toarray()"
   ]
  },
  {
   "cell_type": "code",
   "execution_count": null,
   "id": "2d9cdd48",
   "metadata": {},
   "outputs": [],
   "source": [
    "x_test.shape"
   ]
  },
  {
   "cell_type": "code",
   "execution_count": null,
   "id": "6da7167e",
   "metadata": {},
   "outputs": [],
   "source": [
    "from sklearn.model_selection import train_test_split\n",
    "from sklearn.linear_model import LogisticRegression"
   ]
  },
  {
   "cell_type": "code",
   "execution_count": null,
   "id": "fe9dfb62",
   "metadata": {},
   "outputs": [],
   "source": [
    "X_train, X_test, y_train, y_test = train_test_split(X, y, test_size=0.2, random_state=27)"
   ]
  },
  {
   "cell_type": "code",
   "execution_count": null,
   "id": "3a773e33",
   "metadata": {},
   "outputs": [],
   "source": [
    "# Here 'ovr' indicates that we have selected our One-vs-Rest strategy. \n",
    "logreg = LogisticRegression(multi_class='ovr')"
   ]
  },
  {
   "cell_type": "code",
   "execution_count": null,
   "id": "b3cd013c",
   "metadata": {},
   "outputs": [],
   "source": [
    "logreg.fit(X_train, y_train)"
   ]
  },
  {
   "cell_type": "code",
   "execution_count": null,
   "id": "ce2e4afe",
   "metadata": {},
   "outputs": [],
   "source": [
    "y_pred = logreg.predict(X_test)"
   ]
  },
  {
   "cell_type": "code",
   "execution_count": null,
   "id": "36833c72",
   "metadata": {},
   "outputs": [],
   "source": [
    "print(classification_report(y_test, y_pred, target_names= type_labels))\n",
    "\n",
    "import warnings\n",
    "warnings.filterwarnings('ignore')"
   ]
  },
  {
   "cell_type": "code",
   "execution_count": null,
   "id": "e5b3b37b",
   "metadata": {},
   "outputs": [],
   "source": [
    "#making prediction on the test dataset\n",
    "prediction = logreg.predict(x_test)"
   ]
  },
  {
   "cell_type": "code",
   "execution_count": null,
   "id": "22e58323",
   "metadata": {},
   "outputs": [],
   "source": [
    "#creating a dataframe for the submission\n",
    "submission = pd.DataFrame(list(zip(test_df['index'],  le.inverse_transform(prediction))), columns = ['index', 'lang_id'])\n",
    "submission.head()"
   ]
  },
  {
   "cell_type": "code",
   "execution_count": null,
   "id": "b62dd5cd",
   "metadata": {},
   "outputs": [],
   "source": [
    "#saving the file as csv\n",
    "submission.to_csv('submission_GCE1.csv', index_label = False, index = False)"
   ]
  },
  {
   "cell_type": "code",
   "execution_count": null,
   "id": "9f298676",
   "metadata": {},
   "outputs": [],
   "source": [
    "from sklearn.neural_network import MLPClassifier"
   ]
  },
  {
   "cell_type": "code",
   "execution_count": null,
   "id": "69251cc1",
   "metadata": {},
   "outputs": [],
   "source": [
    "mlp = MLPClassifier(hidden_layer_sizes=(30, 30, 30), max_iter=100000)  \n",
    "mlp.fit(X_train, y_train)"
   ]
  },
  {
   "cell_type": "code",
   "execution_count": null,
   "id": "66d8ab94",
   "metadata": {},
   "outputs": [],
   "source": [
    "y_mlp = mlp.predict(X_test)"
   ]
  },
  {
   "cell_type": "code",
   "execution_count": null,
   "id": "0901ab08",
   "metadata": {},
   "outputs": [],
   "source": [
    "print(classification_report(y_test, y_mlp, target_names= type_labels))\n",
    "\n",
    "import warnings\n",
    "warnings.filterwarnings('ignore')"
   ]
  },
  {
   "cell_type": "code",
   "execution_count": null,
   "id": "c323194b",
   "metadata": {},
   "outputs": [],
   "source": [
    "predictions7 = mlp.predict(x_test)"
   ]
  },
  {
   "cell_type": "code",
   "execution_count": null,
   "id": "d7cb14f8",
   "metadata": {},
   "outputs": [],
   "source": [
    "#creating a dataframe for the submission\n",
    "submission7 = pd.DataFrame(list(zip(test_df['index'],  le.inverse_transform(predictions7))), columns = ['index', 'lang_id'])\n",
    "submission7.head()"
   ]
  },
  {
   "cell_type": "code",
   "execution_count": null,
   "id": "878db36d",
   "metadata": {},
   "outputs": [],
   "source": [
    "submission7.to_csv('submission_GCE8.csv', index_label = False, index = False)"
   ]
  },
  {
   "cell_type": "code",
   "execution_count": null,
   "id": "5ab36b09",
   "metadata": {},
   "outputs": [],
   "source": [
    "from sklearn.naive_bayes import GaussianNB\n",
    "from sklearn.neighbors import KNeighborsClassifier\n",
    "from sklearn.model_selection import train_test_split, GridSearchCV"
   ]
  },
  {
   "cell_type": "code",
   "execution_count": null,
   "id": "fd24712a",
   "metadata": {},
   "outputs": [],
   "source": [
    "nb = GaussianNB()\n",
    "# Fit the model \n",
    "nb.fit(X_train, y_train)"
   ]
  },
  {
   "cell_type": "code",
   "execution_count": null,
   "id": "631e2a89",
   "metadata": {},
   "outputs": [],
   "source": [
    "y_nb = nb.predict(X_test)"
   ]
  },
  {
   "cell_type": "code",
   "execution_count": null,
   "id": "005a168a",
   "metadata": {},
   "outputs": [],
   "source": [
    "print(classification_report(y_test, y_nb, target_names= type_labels))\n",
    "\n",
    "import warnings\n",
    "warnings.filterwarnings('ignore')"
   ]
  },
  {
   "cell_type": "code",
   "execution_count": null,
   "id": "98ec9402",
   "metadata": {},
   "outputs": [],
   "source": [
    "predictions5 = mlp.predict(x_test)"
   ]
  },
  {
   "cell_type": "code",
   "execution_count": null,
   "id": "70d70d09",
   "metadata": {},
   "outputs": [],
   "source": [
    "#creating a dataframe for the submission\n",
    "submission5 = pd.DataFrame(list(zip(test_df['index'],  le.inverse_transform(predictions5))), columns = ['index', 'lang_id'])\n",
    "submission5.head()"
   ]
  },
  {
   "cell_type": "code",
   "execution_count": null,
   "id": "a562b5e6",
   "metadata": {},
   "outputs": [],
   "source": [
    "submission5.to_csv('submission_GCE7.csv', index_label = False, index = False)"
   ]
  },
  {
   "cell_type": "code",
   "execution_count": null,
   "id": "2375e799",
   "metadata": {},
   "outputs": [],
   "source": []
  }
 ],
 "metadata": {
  "kernelspec": {
   "display_name": "Python 3 (ipykernel)",
   "language": "python",
   "name": "python3"
  },
  "language_info": {
   "codemirror_mode": {
    "name": "ipython",
    "version": 3
   },
   "file_extension": ".py",
   "mimetype": "text/x-python",
   "name": "python",
   "nbconvert_exporter": "python",
   "pygments_lexer": "ipython3",
   "version": "3.9.7"
  }
 },
 "nbformat": 4,
 "nbformat_minor": 5
}
